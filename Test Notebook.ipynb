{
 "cells": [
  {
   "cell_type": "code",
   "execution_count": 4,
   "metadata": {},
   "outputs": [],
   "source": [
    "import tensorflow as tf\n",
    "import pandas as pd\n",
    "import numpy as np\n"
   ]
  },
  {
   "cell_type": "code",
   "execution_count": 5,
   "metadata": {},
   "outputs": [],
   "source": [
    "input_csv = 'fx_XBTUSD+KRKN+Curncy_20180424.csv'\n",
    "val_type  = {'BID':0, 'ASK':1, 'TRADE':2}\n",
    "\n",
    "#Data parameters\n",
    "input_length     = 12\n",
    "input_dimension  = 3\n",
    "output_dimension = 3\n",
    "\n",
    "#Training parameters\n",
    "rnn_dim    = 256\n",
    "epochs     = 100\n",
    "batch_size = 32\n"
   ]
  },
  {
   "cell_type": "code",
   "execution_count": 6,
   "metadata": {},
   "outputs": [],
   "source": [
    "### Load the data\n",
    "#TODO (Antonio): load data with pandas\n",
    "data   = [[[0.9,0.99,0.98],[0.99,1,1]]]\n",
    "labels = [[1,1,1]]\n",
    "\n",
    "df = pd.read_csv(input_csv, index_col=0, parse_dates=[2])\n",
    "df = df.pivot_table(values='value', index='time', columns='type', aggfunc='sum')\n",
    "\n",
    "def return_raw_data(df, input_length):\n",
    "    doc = {}\n",
    "    for idx, r in df.iterrows():\n",
    "        dt = idx\n",
    "        df_x = df[(df.index-dt)<pd.to_timedelta(1, unit='H')]\n",
    "        df_x = df_x[(df_x.index-dt)>=pd.to_timedelta(0, unit='H')]\n",
    "        df_y = df[df.index>(dt+pd.to_timedelta(2, unit='H'))]\n",
    "        df_y = df_y[df_y.index==df_y.index.min()]\n",
    "        doc[dt] = {'x': df_x, 'y':df_y}\n",
    "    return doc\n",
    "\n",
    "doc = return_raw_data(df)\n"
   ]
  },
  {
   "cell_type": "code",
   "execution_count": 7,
   "metadata": {},
   "outputs": [],
   "source": [
    "filter_col = ['ASK', 'BID', 'TRADE']\n",
    "X_raw = [np.array(doc[elem]['x'][filter_col]).tolist() for elem in doc]\n",
    "Y_raw = [np.array(doc[elem]['y'][filter_col]).tolist() for elem in doc]\n"
   ]
  },
  {
   "cell_type": "code",
   "execution_count": 13,
   "metadata": {},
   "outputs": [
    {
     "name": "stdout",
     "output_type": "stream",
     "text": [
      "12 ------ [[9200.9, 9199.0, 9204.9]]\n"
     ]
    }
   ],
   "source": [
    "### Normalize the data\n",
    "# (later)\n",
    "\n",
    "# TODO: Divide the data in training (first 80%) and testing (last 20%)\n",
    "split_idx = int(len(X_raw)*0.8)\n",
    "X_train = X_raw[:split_idx]\n",
    "X_test = X_raw[split_idx:]\n",
    "Y_train = Y_raw[:split_idx]\n",
    "Y_test = Y_raw[split_idx:]\n",
    "\n",
    "#print(X_train[0],'------',Y_train[0])\n",
    "#pint(split_idx)"
   ]
  },
  {
   "cell_type": "code",
   "execution_count": 9,
   "metadata": {},
   "outputs": [],
   "source": [
    "def RNN(input, input_length, output_dim=2, rnn_units=128, dropout=1):\n",
    "    input_ = tf.unstack(input, input_length, 1)\n",
    "    with tf.name_scope('RNN_Layer'):\n",
    "        with tf.variable_scope('lstm'):\n",
    "            lstm_cell = tf.nn.rnn_cell.LSTMCell(rnn_units, forget_bias=1.0)\n",
    "            outputs, states = tf.contrib.rnn.static_rnn(lstm_cell, input_, dtype=tf.float32)\n",
    "        rnn_output = outputs[-1] #last output\n",
    "    with tf.name_scope('Layer'):\n",
    "        rnn_output = tf.nn.dropout(rnn_output,dropout)\n",
    "        W = tf.Variable(tf.random_normal([rnn_units,output_dim], 0.0, 0.1),name='W1')\n",
    "        b = tf.Variable(tf.random_normal([output_dim], 0.0, 0.1), name='Bias')\n",
    "        return tf.matmul(rnn_output,W)+b\n",
    "\n",
    "### Define the general input and output\n",
    "X  = tf.placeholder(\"float\", [None, input_length, input_dimension])\n",
    "Y  = tf.placeholder(\"float\", [None, output_dimension])\n",
    "dr = tf.placeholder(\"float\") #dropout parameter\n",
    "\n",
    "prediction = RNN(X,input_length,output_dim=output_dimension,rnn_units=rnn_dim, dropout=dr)"
   ]
  },
  {
   "cell_type": "code",
   "execution_count": 6,
   "metadata": {},
   "outputs": [],
   "source": [
    "with tf.name_scope('Training_Stuff'):\n",
    "    loss = tf.reduce_mean(tf.square(prediction-Y))\n",
    "    optimizer   = tf.train.AdamOptimizer()\n",
    "    train_op    = optimizer.minimize(loss)\n",
    "    train_sum   = tf.summary.scalar('Training_loss',loss)\n",
    "    test_sum    =  tf.summary.scalar('Validation_loss',loss)\n",
    "    file_writer = tf.summary.FileWriter('Tensorboard/len='+str(input_length)+'_rnn='+str(rnn_dim)+'/')\n",
    "    saver = tf.train.Saver()"
   ]
  },
  {
   "cell_type": "code",
   "execution_count": 18,
   "metadata": {},
   "outputs": [
    {
     "name": "stdout",
     "output_type": "stream",
     "text": [
      "[[8966.8, 8959.1, 8966.8], [8952.5, 8947.3, 8951.8], [8951.9, 8951.7, 8951.7], [8964.1, 8961.9, 8968.9], [8972.2, 8972.1, 8972.2], [8978.1, 8973.0, 8974.1], [9009.6, 9005.2, 9022.2], [9195.5, 9195.4, 9192.2], [9177.5, 9175.0, 9168.9], [9215.0, 9206.0, 9205.7], [9199.1, 9199.0, 9199.0], [9197.1, 9197.0, 9197.1]]\n"
     ]
    }
   ],
   "source": [
    "## test\n",
    "X_train = np.array(X_train)\n",
    "X_test  = np.array(X_test)"
   ]
  },
  {
   "cell_type": "code",
   "execution_count": 8,
   "metadata": {},
   "outputs": [],
   "source": [
    "### Start training\n",
    "with tf.Session() as sess:\n",
    "    file_writer.add_graph(sess.graph)\n",
    "    sess.run(tf.global_variables_initializer())\n",
    "    for epoch in range(epochs):\n",
    "        #TODO: Create batches from original data\n",
    "        indexes = np.random.randint(0,len(X_train),len(X_train))\n",
    "        batch_n = 0\n",
    "        while batch_n*batch_size < len(X_train):\n",
    "            batch_indexes = indexes[batch_n*batch_size:(batch_n+1)*batch_size]\n",
    "            batch_n += 1\n",
    "            batch_x, batch_y = X_train[batch_indexes], Y_train[batch_indexes]\n",
    "            sess.run(train_op, feed_dict={X: batch_x, Y: batch_y, dr: 0.8})\n",
    "            \n",
    "        # Compute the current model loss over training and testing data\n",
    "        s,lr = sess.run([train_sum,loss],feed_dict={X:X_train,Y:Y_train,dr:1})\n",
    "        file_writer.add_summary(s,epoch)\n",
    "        s,le = sess.run([test_sum,loss],feed_dict={X:X_test,Y:Y_test),dr:1})\n",
    "        file_writer.add_summary(s,epoch)"
   ]
  },
  {
   "cell_type": "code",
   "execution_count": null,
   "metadata": {},
   "outputs": [],
   "source": []
  }
 ],
 "metadata": {
  "kernelspec": {
   "display_name": "Python 3",
   "language": "python",
   "name": "python3"
  },
  "language_info": {
   "codemirror_mode": {
    "name": "ipython",
    "version": 3
   },
   "file_extension": ".py",
   "mimetype": "text/x-python",
   "name": "python",
   "nbconvert_exporter": "python",
   "pygments_lexer": "ipython3",
   "version": "3.6.6"
  }
 },
 "nbformat": 4,
 "nbformat_minor": 2
}
